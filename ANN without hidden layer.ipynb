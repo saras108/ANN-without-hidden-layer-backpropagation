{
 "cells": [
  {
   "cell_type": "code",
   "execution_count": 1,
   "metadata": {},
   "outputs": [],
   "source": [
    "import numpy as np\n",
    "import pandas as pd"
   ]
  },
  {
   "cell_type": "code",
   "execution_count": 2,
   "metadata": {},
   "outputs": [],
   "source": [
    "input_sets = np.array([ [0.05, 0.10]])\n",
    "\n",
    "labels = np.array([[ 0.01 , 0.99]])\n",
    "\n",
    "n = len(labels)"
   ]
  },
  {
   "cell_type": "code",
   "execution_count": 3,
   "metadata": {},
   "outputs": [
    {
     "name": "stdout",
     "output_type": "stream",
     "text": [
      "[[0.15 0.2 ]\n",
      " [0.25 0.3 ]]\n"
     ]
    },
    {
     "data": {
      "text/plain": [
       "0.99"
      ]
     },
     "execution_count": 3,
     "metadata": {},
     "output_type": "execute_result"
    }
   ],
   "source": [
    "np.random.seed(42)\n",
    "weights = np.array([[0.15,0.20],[0.25,0.30]])\n",
    "bias =np.array([1.35])\n",
    "lr = 0.05\n",
    "print(weights)\n",
    "labels[0][1]"
   ]
  },
  {
   "cell_type": "code",
   "execution_count": 4,
   "metadata": {},
   "outputs": [],
   "source": [
    "def sigmoid(x):\n",
    "    return 1/(1+np.exp(-x))\n",
    "\n",
    "def sigmoid_derivation(x):\n",
    "    return sigmoid(x)*(1-sigmoid(x))"
   ]
  },
  {
   "cell_type": "code",
   "execution_count": 5,
   "metadata": {},
   "outputs": [],
   "source": [
    "input = input_sets\n",
    "\n",
    "#forward propagation\n",
    "xw = np.dot(input, weights)+bias\n",
    "z = sigmoid(xw)\n",
    "error = 1/2*(labels-z)*(labels-z)\n",
    "\n",
    "#backward propagation\n",
    "dcost =labels-z#  d(error)/d(outo2)\n",
    "dpred = sigmoid_derivation(z) #  d(out02)/d(neto2)\n",
    "z_del = dcost * dpred\n",
    "\n",
    "#updating the weights\n",
    "input = input_sets.T\n",
    "derivation = np.dot(input , z_del) #d(error)/d(weight)\n",
    "weights = weights-lr*derivation"
   ]
  },
  {
   "cell_type": "code",
   "execution_count": 6,
   "metadata": {},
   "outputs": [
    {
     "data": {
      "text/plain": [
       "array([[0.31157003, 0.01793765]])"
      ]
     },
     "execution_count": 6,
     "metadata": {},
     "output_type": "execute_result"
    }
   ],
   "source": [
    "error"
   ]
  },
  {
   "cell_type": "code",
   "execution_count": 8,
   "metadata": {},
   "outputs": [
    {
     "data": {
      "text/plain": [
       "array([[0.15042224, 0.19989873],\n",
       "       [0.25084449, 0.29979746]])"
      ]
     },
     "execution_count": 8,
     "metadata": {},
     "output_type": "execute_result"
    }
   ],
   "source": [
    "weights"
   ]
  },
  {
   "cell_type": "code",
   "execution_count": 9,
   "metadata": {},
   "outputs": [],
   "source": [
    "for epoch in range(25000):\n",
    "    input = input_sets\n",
    "    xw = np.dot(input, weights)+bias\n",
    "    z = sigmoid(xw)\n",
    "    error = 1/2*(labels-z)*(labels-z)\n",
    "    dcost = labels-z\n",
    "    dpred = sigmoid_derivation(z)\n",
    "    z_del = dcost * dpred\n",
    "    input = input_sets.T\n",
    "    weights = weights-lr*np.dot(input , z_del)"
   ]
  },
  {
   "cell_type": "code",
   "execution_count": 10,
   "metadata": {},
   "outputs": [
    {
     "data": {
      "text/plain": [
       "array([[0.47670172, 0.0690581 ]])"
      ]
     },
     "execution_count": 10,
     "metadata": {},
     "output_type": "execute_result"
    }
   ],
   "source": [
    "error"
   ]
  },
  {
   "cell_type": "code",
   "execution_count": 11,
   "metadata": {},
   "outputs": [
    {
     "data": {
      "text/plain": [
       "array([[11.76355511, -3.42983732],\n",
       "       [23.47711021, -6.95967464]])"
      ]
     },
     "execution_count": 11,
     "metadata": {},
     "output_type": "execute_result"
    }
   ],
   "source": [
    "weights"
   ]
  }
 ],
 "metadata": {
  "kernelspec": {
   "display_name": "Python 3",
   "language": "python",
   "name": "python3"
  },
  "language_info": {
   "codemirror_mode": {
    "name": "ipython",
    "version": 3
   },
   "file_extension": ".py",
   "mimetype": "text/x-python",
   "name": "python",
   "nbconvert_exporter": "python",
   "pygments_lexer": "ipython3",
   "version": "3.7.6"
  }
 },
 "nbformat": 4,
 "nbformat_minor": 4
}
